{
 "cells": [
  {
   "cell_type": "code",
   "execution_count": 1,
   "id": "acf75ff0-89c8-41db-b774-8bdbeaccb686",
   "metadata": {},
   "outputs": [],
   "source": [
    "from langchain.vectorstores import Chroma\n",
    "from langchain.embeddings import HuggingFaceEmbeddings\n",
    "from langchain.document_loaders import TextLoader\n",
    "from langchain.text_splitter import CharacterTextSplitter\n",
    "import os"
   ]
  },
  {
   "cell_type": "code",
   "execution_count": 16,
   "id": "2fff53e0-80b9-4322-89fe-4de97de83c78",
   "metadata": {},
   "outputs": [],
   "source": [
    "persist_dir = \"./chroma_db5\"\n",
    "embedding_function = HuggingFaceEmbeddings(model_name=\"all-MiniLM-L6-v2\")\n",
    "\n",
    "\n",
    "vectordb = Chroma(persist_directory=persist_dir, embedding_function=embedding_function)\n",
    "# Retrieve the documents with metadata and embeddings\n",
    "all_data = vectordb.get(include=[\"documents\", \"metadatas\", \"embeddings\"])\n",
    "\n",
    "# Display documents, metadata, and embeddings\n",
    "for i in range(len(all_data[\"documents\"])):\n",
    "    print(f\"\\nDocument {i+1}\")\n",
    "    print(f\"Text: {all_data['documents'][i]}\")\n",
    "    print(f\"Metadata: {all_data['metadatas'][i]}\")\n"
   ]
  },
  {
   "cell_type": "code",
   "execution_count": 12,
   "id": "19cec162-f1e9-4b9c-9582-a3537d416ac9",
   "metadata": {},
   "outputs": [],
   "source": [
    "# Safer retrieval (skip embeddings)\n",
    "all_data = vectordb.get(include=[\"documents\", \"metadatas\"])\n",
    "\n",
    "for i in range(len(all_data[\"documents\"])):\n",
    "    print(f\"\\nDocument {i+1}\")\n",
    "    print(f\"Text: {all_data['documents'][i]}\")\n",
    "    print(f\"Metadata: {all_data['metadatas'][i]}\")\n"
   ]
  },
  {
   "cell_type": "code",
   "execution_count": null,
   "id": "71a6cc44-2e87-4cd8-95b7-985f60765a9f",
   "metadata": {},
   "outputs": [],
   "source": []
  }
 ],
 "metadata": {
  "kernelspec": {
   "display_name": "Python (gen_ai)",
   "language": "python",
   "name": "gen_ai"
  },
  "language_info": {
   "codemirror_mode": {
    "name": "ipython",
    "version": 3
   },
   "file_extension": ".py",
   "mimetype": "text/x-python",
   "name": "python",
   "nbconvert_exporter": "python",
   "pygments_lexer": "ipython3",
   "version": "3.12.7"
  }
 },
 "nbformat": 4,
 "nbformat_minor": 5
}
